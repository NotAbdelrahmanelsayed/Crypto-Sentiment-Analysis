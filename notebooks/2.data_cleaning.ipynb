{
 "cells": [
  {
   "cell_type": "code",
   "execution_count": 11,
   "metadata": {},
   "outputs": [],
   "source": [
    "import re \n",
    "import string\n",
    "\n",
    "import pandas as pd\n",
    "import numpy as np"
   ]
  },
  {
   "cell_type": "code",
   "execution_count": 31,
   "metadata": {},
   "outputs": [],
   "source": [
    "data_path = '../data/raw/Bitcoin_submissions.csv'\n",
    "df = pd.read_csv(data_path)"
   ]
  },
  {
   "cell_type": "code",
   "execution_count": 32,
   "metadata": {},
   "outputs": [
    {
     "data": {
      "text/html": [
       "<div>\n",
       "<style scoped>\n",
       "    .dataframe tbody tr th:only-of-type {\n",
       "        vertical-align: middle;\n",
       "    }\n",
       "\n",
       "    .dataframe tbody tr th {\n",
       "        vertical-align: top;\n",
       "    }\n",
       "\n",
       "    .dataframe thead th {\n",
       "        text-align: right;\n",
       "    }\n",
       "</style>\n",
       "<table border=\"1\" class=\"dataframe\">\n",
       "  <thead>\n",
       "    <tr style=\"text-align: right;\">\n",
       "      <th></th>\n",
       "      <th>ups</th>\n",
       "      <th>retrieved_on</th>\n",
       "      <th>selftext</th>\n",
       "      <th>media</th>\n",
       "      <th>link_flair_text</th>\n",
       "      <th>permalink</th>\n",
       "      <th>title</th>\n",
       "      <th>secure_media_embed</th>\n",
       "      <th>downs</th>\n",
       "      <th>thumbnail</th>\n",
       "      <th>...</th>\n",
       "      <th>airgapt</th>\n",
       "      <th>t3_ko88sn</th>\n",
       "      <th>Unnamed: 65</th>\n",
       "      <th>0</th>\n",
       "      <th>False.4</th>\n",
       "      <th>ko88sn</th>\n",
       "      <th>4</th>\n",
       "      <th>noob</th>\n",
       "      <th>Unnamed: 71</th>\n",
       "      <th>False.5</th>\n",
       "    </tr>\n",
       "  </thead>\n",
       "  <tbody>\n",
       "    <tr>\n",
       "      <th>0</th>\n",
       "      <td>NaN</td>\n",
       "      <td>NaN</td>\n",
       "      <td>[removed]</td>\n",
       "      <td>NaN</td>\n",
       "      <td>NaN</td>\n",
       "      <td>/r/Bitcoin/comments/ko88ae/mine_from_your_phone/</td>\n",
       "      <td>Mine from your phone</td>\n",
       "      <td>{}</td>\n",
       "      <td>NaN</td>\n",
       "      <td>default</td>\n",
       "      <td>...</td>\n",
       "      <td>NaN</td>\n",
       "      <td>NaN</td>\n",
       "      <td>NaN</td>\n",
       "      <td>NaN</td>\n",
       "      <td>NaN</td>\n",
       "      <td>NaN</td>\n",
       "      <td>NaN</td>\n",
       "      <td>NaN</td>\n",
       "      <td>NaN</td>\n",
       "      <td>NaN</td>\n",
       "    </tr>\n",
       "    <tr>\n",
       "      <th>1</th>\n",
       "      <td>NaN</td>\n",
       "      <td>NaN</td>\n",
       "      <td>[deleted]</td>\n",
       "      <td>NaN</td>\n",
       "      <td>NaN</td>\n",
       "      <td>/r/Bitcoin/comments/ko885j/this_is_the_newest_...</td>\n",
       "      <td>This is the newest project of him?</td>\n",
       "      <td>{}</td>\n",
       "      <td>NaN</td>\n",
       "      <td>default</td>\n",
       "      <td>...</td>\n",
       "      <td>NaN</td>\n",
       "      <td>NaN</td>\n",
       "      <td>NaN</td>\n",
       "      <td>NaN</td>\n",
       "      <td>NaN</td>\n",
       "      <td>NaN</td>\n",
       "      <td>NaN</td>\n",
       "      <td>NaN</td>\n",
       "      <td>NaN</td>\n",
       "      <td>NaN</td>\n",
       "    </tr>\n",
       "  </tbody>\n",
       "</table>\n",
       "<p>2 rows × 73 columns</p>\n",
       "</div>"
      ],
      "text/plain": [
       "   ups  retrieved_on   selftext media link_flair_text  \\\n",
       "0  NaN           NaN  [removed]   NaN             NaN   \n",
       "1  NaN           NaN  [deleted]   NaN             NaN   \n",
       "\n",
       "                                           permalink  \\\n",
       "0   /r/Bitcoin/comments/ko88ae/mine_from_your_phone/   \n",
       "1  /r/Bitcoin/comments/ko885j/this_is_the_newest_...   \n",
       "\n",
       "                                title secure_media_embed  downs thumbnail  \\\n",
       "0                Mine from your phone                 {}    NaN   default   \n",
       "1  This is the newest project of him?                 {}    NaN   default   \n",
       "\n",
       "   ... airgapt t3_ko88sn  Unnamed: 65   0 False.4 ko88sn   4  noob  \\\n",
       "0  ...     NaN       NaN          NaN NaN     NaN    NaN NaN   NaN   \n",
       "1  ...     NaN       NaN          NaN NaN     NaN    NaN NaN   NaN   \n",
       "\n",
       "  Unnamed: 71  False.5  \n",
       "0         NaN      NaN  \n",
       "1         NaN      NaN  \n",
       "\n",
       "[2 rows x 73 columns]"
      ]
     },
     "execution_count": 32,
     "metadata": {},
     "output_type": "execute_result"
    }
   ],
   "source": [
    "df.head(2)"
   ]
  },
  {
   "cell_type": "code",
   "execution_count": 33,
   "metadata": {},
   "outputs": [],
   "source": [
    "def clean_text(text):\n",
    "    ## AI generate for (re).\n",
    "    if isinstance(text, str):  # check if text is a string\n",
    "        text = text.lower()  # convert text to lower case\n",
    "        text = re.sub(r'\\[.*?\\]', '', text)  # remove text in square brackets\n",
    "        text = re.sub(r'[%s]' % re.escape(string.punctuation), '', text)  # remove punctuation\n",
    "        text = re.sub(r'\\w*\\d\\w*', '', text)  # remove words containing numbers\n",
    "        return text\n",
    "    else:\n",
    "        return \"\""
   ]
  },
  {
   "cell_type": "code",
   "execution_count": 34,
   "metadata": {},
   "outputs": [],
   "source": [
    "df['cleaned_text'] = df['selftext'].apply(lambda x: clean_text(x))\n",
    "df['title'] = df['title'].apply(clean_text)\n",
    "df['date'] = pd.to_datetime(df.created_utc, unit='s').dt.date"
   ]
  },
  {
   "cell_type": "code",
   "execution_count": 27,
   "metadata": {},
   "outputs": [
    {
     "data": {
      "text/html": [
       "<div>\n",
       "<style scoped>\n",
       "    .dataframe tbody tr th:only-of-type {\n",
       "        vertical-align: middle;\n",
       "    }\n",
       "\n",
       "    .dataframe tbody tr th {\n",
       "        vertical-align: top;\n",
       "    }\n",
       "\n",
       "    .dataframe thead th {\n",
       "        text-align: right;\n",
       "    }\n",
       "</style>\n",
       "<table border=\"1\" class=\"dataframe\">\n",
       "  <thead>\n",
       "    <tr style=\"text-align: right;\">\n",
       "      <th></th>\n",
       "      <th>cleaned_text</th>\n",
       "      <th>title</th>\n",
       "      <th>date</th>\n",
       "    </tr>\n",
       "  </thead>\n",
       "  <tbody>\n",
       "    <tr>\n",
       "      <th>0</th>\n",
       "      <td></td>\n",
       "      <td>mine from your phone</td>\n",
       "      <td>2021-01-01</td>\n",
       "    </tr>\n",
       "    <tr>\n",
       "      <th>1</th>\n",
       "      <td></td>\n",
       "      <td>this is the newest project of him</td>\n",
       "      <td>2021-01-01</td>\n",
       "    </tr>\n",
       "    <tr>\n",
       "      <th>2</th>\n",
       "      <td></td>\n",
       "      <td>mine from your phone</td>\n",
       "      <td>2021-01-01</td>\n",
       "    </tr>\n",
       "    <tr>\n",
       "      <th>3</th>\n",
       "      <td>i have a amd ryzen thread ripper a  core proce...</td>\n",
       "      <td>how much money can i make mining bitcoin</td>\n",
       "      <td>2021-01-01</td>\n",
       "    </tr>\n",
       "    <tr>\n",
       "      <th>4</th>\n",
       "      <td>happy new year 🎊 my btc hodlers 🚀🌚</td>\n",
       "      <td>bitcoin year</td>\n",
       "      <td>2021-01-01</td>\n",
       "    </tr>\n",
       "  </tbody>\n",
       "</table>\n",
       "</div>"
      ],
      "text/plain": [
       "                                        cleaned_text  \\\n",
       "0                                                      \n",
       "1                                                      \n",
       "2                                                      \n",
       "3  i have a amd ryzen thread ripper a  core proce...   \n",
       "4                 happy new year 🎊 my btc hodlers 🚀🌚   \n",
       "\n",
       "                                      title        date  \n",
       "0                      mine from your phone  2021-01-01  \n",
       "1         this is the newest project of him  2021-01-01  \n",
       "2                      mine from your phone  2021-01-01  \n",
       "3  how much money can i make mining bitcoin  2021-01-01  \n",
       "4                              bitcoin year  2021-01-01  "
      ]
     },
     "execution_count": 27,
     "metadata": {},
     "output_type": "execute_result"
    }
   ],
   "source": [
    "df = df[['cleaned_text', 'title', 'date']] # Save the neccessary features only for Sentiment analysis.\n",
    "df.head()"
   ]
  },
  {
   "cell_type": "markdown",
   "metadata": {},
   "source": [
    "Saving the cleaned data\n"
   ]
  },
  {
   "cell_type": "code",
   "execution_count": 29,
   "metadata": {},
   "outputs": [],
   "source": [
    "df.to_csv('../data/processed/Bitcoin_cleaned.csv', index=False)"
   ]
  }
 ],
 "metadata": {
  "kernelspec": {
   "display_name": "Python 3",
   "language": "python",
   "name": "python3"
  },
  "language_info": {
   "codemirror_mode": {
    "name": "ipython",
    "version": 3
   },
   "file_extension": ".py",
   "mimetype": "text/x-python",
   "name": "python",
   "nbconvert_exporter": "python",
   "pygments_lexer": "ipython3",
   "version": "3.10.11"
  }
 },
 "nbformat": 4,
 "nbformat_minor": 2
}
